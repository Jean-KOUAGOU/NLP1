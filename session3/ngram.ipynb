{
 "cells": [
  {
   "cell_type": "code",
   "execution_count": 1268,
   "metadata": {},
   "outputs": [],
   "source": [
    "import io, sys, math, re\n",
    "from collections import defaultdict\n",
    "import numpy as np"
   ]
  },
  {
   "cell_type": "code",
   "execution_count": 1269,
   "metadata": {},
   "outputs": [],
   "source": [
    "# dataloader\n",
    "\n",
    "def load_data(filename):\n",
    "    fin = io.open(filename, 'r', encoding='utf-8')\n",
    "    data = []\n",
    "    vocab = defaultdict(lambda:0)\n",
    "    for line in fin:\n",
    "        sentence = line.split()\n",
    "        data.append(sentence)\n",
    "        for word in sentence:\n",
    "            vocab[word] += 1\n",
    "    return data, vocab"
   ]
  },
  {
   "cell_type": "code",
   "execution_count": 1270,
   "metadata": {},
   "outputs": [],
   "source": [
    "def remove_rare_words(data, vocab, mincount):\n",
    "    ## FILL CODE\n",
    "    # replace words in data that are not in the vocab \n",
    "    # or have a count that is below mincount\n",
    "    data_with_unk = data[:]\n",
    "    for i in range(len(data_with_unk)):\n",
    "        for j in range(len(data_with_unk[i])):\n",
    "            if vocab[data_with_unk[i][j]] < mincount:\n",
    "                data_with_unk[i][j] = '<unk>'\n",
    "    return data_with_unk"
   ]
  },
  {
   "cell_type": "code",
   "execution_count": 1271,
   "metadata": {},
   "outputs": [
    {
     "name": "stdout",
     "output_type": "stream",
     "text": [
      "load training set\n",
      "load validation set\n"
     ]
    }
   ],
   "source": [
    "# LOAD DATA\n",
    "\n",
    "print(\"load training set\")\n",
    "train_data, vocab = load_data(\"train.txt\")\n",
    "\n",
    "## FILL CODE\n",
    "# Same as bigram.py\n",
    "train_data = remove_rare_words(train_data, vocab, 5)\n",
    "\n",
    "print(\"load validation set\")\n",
    "valid_data, _ = load_data(\"valid.txt\")\n",
    "## FILL CODE\n",
    "# Same as bigram.py\n",
    "valid_data = remove_rare_words(valid_data, vocab, 5)"
   ]
  },
  {
   "cell_type": "code",
   "execution_count": 1272,
   "metadata": {},
   "outputs": [],
   "source": [
    "# valid_data"
   ]
  },
  {
   "cell_type": "code",
   "execution_count": null,
   "metadata": {},
   "outputs": [],
   "source": []
  },
  {
   "cell_type": "code",
   "execution_count": 1273,
   "metadata": {},
   "outputs": [],
   "source": [
    "def build_ngram(data, n):\n",
    "    total_number_words = 0\n",
    "    counts = defaultdict(lambda: defaultdict(lambda: 0.0))\n",
    "    assert n > 1, 'n should be greater than 1'\n",
    "    for sentence in data:\n",
    "        sentence = tuple(sentence)\n",
    "        ## FILL CODE\n",
    "        # dict can be indexed by tuples\n",
    "        # store in the same dict all the ngrams\n",
    "        # by using the context as a key and the word as a value\n",
    "        for gram_size in range(n):\n",
    "            for idx in range(len(sentence)):\n",
    "                total_number_words += 1.\n",
    "                if gram_size+idx < len(sentence):\n",
    "                    counts[sentence[idx:gram_size+idx]][sentence[idx+gram_size]] += 1.\n",
    "    total_number_words /= n #This quantity was n times the actual one\n",
    "    prob  = defaultdict(lambda: defaultdict(lambda: 0.0))\n",
    "    ## FILL CODE\n",
    "    # Build the probabilities from the counts\n",
    "    # Be careful with how you normalize!\n",
    "    for context in counts:\n",
    "        for word in counts[context]:\n",
    "            prob[context][word] = counts[context][word]/sum(counts[context].values())\n",
    "\n",
    "    return prob"
   ]
  },
  {
   "cell_type": "code",
   "execution_count": 1274,
   "metadata": {},
   "outputs": [
    {
     "name": "stdout",
     "output_type": "stream",
     "text": [
      "build ngram model with n =  3\n"
     ]
    }
   ],
   "source": [
    "# RUN TO BUILD NGRAM MODEL\n",
    "\n",
    "n = 3\n",
    "print(\"build ngram model with n = \", n)\n",
    "model = build_ngram(train_data, n)"
   ]
  },
  {
   "cell_type": "code",
   "execution_count": 1336,
   "metadata": {},
   "outputs": [],
   "source": [
    "model;"
   ]
  },
  {
   "cell_type": "code",
   "execution_count": 1366,
   "metadata": {},
   "outputs": [],
   "source": [
    "def get_prob(model, context, w):\n",
    "    ## FILL CODE\n",
    "    # code a recursive function over \n",
    "    # smaller and smaller context\n",
    "    # to compute the backoff model\n",
    "    # Bonus: You can also code an interpolation model this way\n",
    "    return model[context][w] if model[context][w] != 0.0 else 0.4*get_prob(model, context[1:], w)\n",
    "# Bonus part\n",
    "def get_prob_bonus(model, context, w):\n",
    "    # Bonus: You can also code an interpolation model this way\n",
    "    n = max([len(key) for key in model])+1\n",
    "    lambda_s = 1./n\n",
    "    s = len(context)\n",
    "    probs = 0.0\n",
    "    for i in range(n):\n",
    "        probs += lambda_s*get_prob(model, context[s-1-i:], w)\n",
    "    return probs\n",
    "\n",
    "def perplexity(model, data, n):\n",
    "    ## FILL CODE\n",
    "    # Same as bigram.py\n",
    "    perp = 0.0\n",
    "    for sentence in data:\n",
    "        sentence = tuple(sentence)\n",
    "        probs = 0.0\n",
    "        for idx in range(1,len(sentence)):\n",
    "            probs += (-1.0/len(sentence))*np.log(get_prob(model, sentence[max(0,idx-n+1):idx], sentence[idx]))\n",
    "        perp += probs/len(data)\n",
    "    return np.exp(perp)"
   ]
  },
  {
   "cell_type": "code",
   "execution_count": 1367,
   "metadata": {},
   "outputs": [
    {
     "name": "stdout",
     "output_type": "stream",
     "text": [
      "The perplexity is 20.853096276217542\n"
     ]
    }
   ],
   "source": [
    "# COMPUTE PERPLEXITY ON VALIDATION SET\n",
    "\n",
    "print(\"The perplexity is\", perplexity(model, valid_data, n))"
   ]
  },
  {
   "cell_type": "code",
   "execution_count": 1348,
   "metadata": {},
   "outputs": [],
   "source": [
    "def get_proba_distrib(model, context):\n",
    "    ## FILL CODE\n",
    "    # code a recursive function over context\n",
    "    # to find the longest available ngram\n",
    "    return context if context in model else get_proba_distrib(model, context[1:])\n",
    "\n",
    "def generate(model):\n",
    "    ## FILL CODE\n",
    "    # generate a sentence. A sentence starts with a <s> and ends with a </s>\n",
    "    # Possiblly a use function is:\n",
    "    #   np.random.choice(x, 1, p = y)\n",
    "    # where x is a list of things to sample from\n",
    "    # and y is a list of probability (of the same length as x)\n",
    "    sentence = ['<s>']\n",
    "    while sentence[-1] != '</s>':\n",
    "        x = list(model[get_proba_distrib(model, tuple(sentence))].keys())\n",
    "        proba = list(model[get_proba_distrib(model, tuple(sentence))].values())\n",
    "        #Now we sample a word from x according to proba\n",
    "        sentence.append(np.random.choice(x, 1, p = proba)[0])\n",
    "    return sentence"
   ]
  },
  {
   "cell_type": "code",
   "execution_count": 1365,
   "metadata": {},
   "outputs": [
    {
     "name": "stdout",
     "output_type": "stream",
     "text": [
      "Generated sentence:  ['<s>', 'layla', 'went', 'to', 'the', 'station.', '</s>']\n"
     ]
    }
   ],
   "source": [
    "# GENERATE A SENTENCE FROM THE MODEL\n",
    "\n",
    "print(\"Generated sentence: \",generate(model))"
   ]
  },
  {
   "cell_type": "code",
   "execution_count": null,
   "metadata": {},
   "outputs": [],
   "source": []
  },
  {
   "cell_type": "code",
   "execution_count": null,
   "metadata": {},
   "outputs": [],
   "source": []
  }
 ],
 "metadata": {
  "kernelspec": {
   "display_name": "Python 3",
   "language": "python",
   "name": "python3"
  },
  "language_info": {
   "codemirror_mode": {
    "name": "ipython",
    "version": 3
   },
   "file_extension": ".py",
   "mimetype": "text/x-python",
   "name": "python",
   "nbconvert_exporter": "python",
   "pygments_lexer": "ipython3",
   "version": "3.7.6"
  }
 },
 "nbformat": 4,
 "nbformat_minor": 4
}
