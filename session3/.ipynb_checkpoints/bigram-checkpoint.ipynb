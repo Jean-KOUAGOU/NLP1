{
 "cells": [
  {
   "cell_type": "code",
   "execution_count": 3,
   "metadata": {},
   "outputs": [],
   "source": [
    "import io, sys, math, re\n",
    "from collections import defaultdict\n",
    "import numpy as np"
   ]
  },
  {
   "cell_type": "code",
   "execution_count": 4,
   "metadata": {},
   "outputs": [],
   "source": [
    "# dataloader\n",
    "\n",
    "def load_data(filename):\n",
    "    fin = io.open(filename, 'r', encoding='utf-8')\n",
    "    data = []\n",
    "    vocab = defaultdict(lambda:0)\n",
    "    for line in fin:\n",
    "        sentence = line.split()\n",
    "        data.append(sentence)\n",
    "        for word in sentence:\n",
    "            vocab[word] += 1\n",
    "    return data, vocab"
   ]
  },
  {
   "cell_type": "code",
   "execution_count": 5,
   "metadata": {},
   "outputs": [],
   "source": [
    "def remove_rare_words(data, vocab, mincount):\n",
    "    ## FILL CODE\n",
    "    # replace words in data that are not in the vocab \n",
    "    # or have a count that is below mincount\n",
    "    data_with_unk = data[:]\n",
    "    for i in range(len(data)):\n",
    "        for j in range(len(data[i])):\n",
    "            data_with_unk[i][j] = '<unk>' if vocab[data[i][j]] < mincount else data_with_unk[i][j]\n",
    "            \n",
    "    return data_with_unk"
   ]
  },
  {
   "cell_type": "code",
   "execution_count": 6,
   "metadata": {},
   "outputs": [
    {
     "name": "stdout",
     "output_type": "stream",
     "text": [
      "load validation set\n"
     ]
    }
   ],
   "source": [
    "# LOAD DATA\n",
    "\n",
    "train_data, vocab = load_data(\"train2.txt\")\n",
    "## FILL CODE \n",
    "# If you have an Out of Vocabulary error (OOV) \n",
    "# call the function \"remove_rare_words\" to replace \n",
    "# rare words with <unk> in the dataset\n",
    "train_data = remove_rare_words(train_data, vocab, 10)\n",
    "\n",
    "print(\"load validation set\")\n",
    "valid_data, _ = load_data(\"valid2.txt\")\n",
    "## FILL CODE \n",
    "# If you have an Out of Vocabulary error (OOV) \n",
    "# call the function \"remove_rare_words\" to replace \n",
    "# OOV with <unk> in the dataset\n",
    "valid_data = remove_rare_words(valid_data, vocab, 10)"
   ]
  },
  {
   "cell_type": "code",
   "execution_count": 20,
   "metadata": {},
   "outputs": [],
   "source": [
    "# Function to build a bigram model\n",
    "\n",
    "def build_bigram(data):\n",
    "    unigram_counts = defaultdict(lambda:0)\n",
    "    bigram_counts  = defaultdict(lambda: defaultdict(lambda: 0.0))\n",
    "    total_number_words = 0\n",
    "\n",
    "    ## FILL CODE\n",
    "    # Store the unigram and bigram counts as well as the total \n",
    "    # number of words in the dataset\n",
    "    for sentence in data:\n",
    "        for idx in range(len(sentence)):\n",
    "            unigram_counts[sentence[idx]] += 1.\n",
    "            total_number_words += 1.\n",
    "            if idx<len(sentence)-1:\n",
    "                bigram_counts[sentence[idx]][sentence[idx+1]] += 1.\n",
    "\n",
    "    unigram_prob = defaultdict(lambda:0)\n",
    "    bigram_prob = defaultdict(lambda: defaultdict(lambda: 0.0))\n",
    "\n",
    "    ## FILL CODE\n",
    "    # Build unigram and bigram probabilities from counts\n",
    "    for sentence in data:\n",
    "        for idx in range(len(sentence)):\n",
    "            unigram_prob[sentence[idx]] = unigram_counts[sentence[idx]]/total_number_words\n",
    "            if idx<len(sentence)-1:\n",
    "                bigram_prob[sentence[idx]][sentence[idx+1]] = bigram_counts[sentence[idx]][sentence[idx+1]]/unigram_counts[sentence[idx]]\n",
    "    return {'bigram': bigram_prob, 'unigram': unigram_prob}"
   ]
  },
  {
   "cell_type": "code",
   "execution_count": 21,
   "metadata": {},
   "outputs": [
    {
     "name": "stdout",
     "output_type": "stream",
     "text": [
      "build bigram model\n"
     ]
    }
   ],
   "source": [
    "# RUN TO BUILD BIGRAM MODEL\n",
    "\n",
    "print(\"build bigram model\")\n",
    "model = build_bigram(train_data)"
   ]
  },
  {
   "cell_type": "code",
   "execution_count": 22,
   "metadata": {},
   "outputs": [],
   "source": [
    "#model['bigram']"
   ]
  },
  {
   "cell_type": "code",
   "execution_count": 23,
   "metadata": {},
   "outputs": [],
   "source": [
    "def get_prob(model, w1, w2):\n",
    "    assert model[\"unigram\"][w2] != 0, \"Out of Vocabulary word!\"\n",
    "    ## FILL CODE\n",
    "    # Should return the probability of the bigram (w1w2) if it exists\n",
    "    # Else it return the probility of unigram (w2) multiplied by 0.4\n",
    "    proba = model['bigram'][w1][w2] if model['bigram'][w1][w2] != 0.0 else 0.4*model['unigram'][w2]\n",
    "    return proba\n",
    "\n",
    "def perplexity(model, data):\n",
    "    ## FILL CODE\n",
    "    # follow the formula in the slides\n",
    "    # call the function get_prob to get P(w2 | w1)\n",
    "    perp = 0.0\n",
    "    for sentence in data:\n",
    "        probs = 0.0\n",
    "        for idx, _ in enumerate(sentence):\n",
    "            if idx<len(sentence)-1:\n",
    "                probs += (-1.0/len(sentence))*np.log(get_prob(model, sentence[idx], sentence[idx+1]))\n",
    "        perp += probs/len(data)\n",
    "    return perp"
   ]
  },
  {
   "cell_type": "code",
   "execution_count": 24,
   "metadata": {},
   "outputs": [
    {
     "name": "stdout",
     "output_type": "stream",
     "text": [
      "The perplexity is 3.4725318165957475\n"
     ]
    }
   ],
   "source": [
    "# COMPUTE PERPLEXITY ON VALIDATION SET\n",
    "\n",
    "print(\"The perplexity is\", perplexity(model, valid_data))"
   ]
  },
  {
   "cell_type": "code",
   "execution_count": 37,
   "metadata": {},
   "outputs": [],
   "source": [
    "def generate(model):\n",
    "    sentence = [\"<s>\"]\n",
    "    ## FILL CODE\n",
    "    # generate a sentence. A sentence starts with an <s> and ends with an </s>\n",
    "    # Possibly a use function is:\n",
    "    #   np.random.choice(x, 1, p = y)\n",
    "    # where x is a list of things to sample from\n",
    "    # and y is a list of probability (of the same length as x)\n",
    "    \n",
    "    for i in range(5):\n",
    "        if sentence[-1] == '</s>':\n",
    "            break\n",
    "        x = list(model['bigram'][sentence[-1]].keys())\n",
    "        probs = list(model['bigram'][sentence[-1]].values())\n",
    "        sentence.append(np.random.choice(x, 1, probs)[0])\n",
    "    if sentence[-1] != '</s>':\n",
    "        sentence.append('</s>')\n",
    "    return sentence"
   ]
  },
  {
   "cell_type": "code",
   "execution_count": 41,
   "metadata": {},
   "outputs": [
    {
     "name": "stdout",
     "output_type": "stream",
     "text": [
      "Generated sentence:  ['<s>', 'wine', 'which', 'parent', 'company', 'deals', '</s>']\n"
     ]
    }
   ],
   "source": [
    "# GENERATE A SENTENCE FROM THE MODEL\n",
    "\n",
    "print(\"Generated sentence: \",generate(model))"
   ]
  },
  {
   "cell_type": "code",
   "execution_count": null,
   "metadata": {},
   "outputs": [],
   "source": []
  }
 ],
 "metadata": {
  "kernelspec": {
   "display_name": "Python 3",
   "language": "python",
   "name": "python3"
  },
  "language_info": {
   "codemirror_mode": {
    "name": "ipython",
    "version": 3
   },
   "file_extension": ".py",
   "mimetype": "text/x-python",
   "name": "python",
   "nbconvert_exporter": "python",
   "pygments_lexer": "ipython3",
   "version": "3.7.6"
  }
 },
 "nbformat": 4,
 "nbformat_minor": 4
}
